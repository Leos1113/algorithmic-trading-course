{
  "nbformat": 4,
  "nbformat_minor": 0,
  "metadata": {
    "colab": {
      "provenance": [],
      "toc_visible": true,
      "authorship_tag": "ABX9TyM4DeuL/JRWZAGUi7i6qTFQ",
      "include_colab_link": true
    },
    "kernelspec": {
      "name": "python3",
      "display_name": "Python 3"
    },
    "language_info": {
      "name": "python"
    }
  },
  "cells": [
    {
      "cell_type": "markdown",
      "metadata": {
        "id": "view-in-github",
        "colab_type": "text"
      },
      "source": [
        "<a href=\"https://colab.research.google.com/github/Leos1113/algorithmic-trading-course/blob/main/1.ipynb\" target=\"_parent\"><img src=\"https://colab.research.google.com/assets/colab-badge.svg\" alt=\"Open In Colab\"/></a>"
      ]
    },
    {
      "cell_type": "markdown",
      "source": [
        "# Numpy\n",
        "\n",
        "## Creación de tablas con Numpy"
      ],
      "metadata": {
        "id": "oyBIpEns3ifU"
      }
    },
    {
      "cell_type": "code",
      "source": [
        "# Importamos numpy y le asignamos un alias np para usarlo\n",
        "import numpy as np\n",
        "\n",
        "# Creamos un array de una dimension\n",
        "arr = np.array([1,2,3])\n",
        "\n",
        "# Imprimimos el array\n",
        "arr"
      ],
      "metadata": {
        "colab": {
          "base_uri": "https://localhost:8080/"
        },
        "id": "qr0zEF6G2Aod",
        "outputId": "f88bb881-615e-41e6-dce6-a5dcc1309592"
      },
      "execution_count": null,
      "outputs": [
        {
          "output_type": "execute_result",
          "data": {
            "text/plain": [
              "array([1, 2, 3])"
            ]
          },
          "metadata": {},
          "execution_count": 2
        }
      ]
    },
    {
      "cell_type": "code",
      "source": [
        "# Función Linspace ---> Genera valores entre un intervalo, en este caso el intervalo seria entre 0-50 y que queremos que nos genere 51 números, puede generar numeros decimales\n",
        "np.linspace(0, 50, 51)"
      ],
      "metadata": {
        "colab": {
          "base_uri": "https://localhost:8080/"
        },
        "id": "0R1GZDVe2Ytn",
        "outputId": "58f54d86-3ff7-4056-f9cc-e539cfb5af06"
      },
      "execution_count": null,
      "outputs": [
        {
          "output_type": "execute_result",
          "data": {
            "text/plain": [
              "array([ 0.,  1.,  2.,  3.,  4.,  5.,  6.,  7.,  8.,  9., 10., 11., 12.,\n",
              "       13., 14., 15., 16., 17., 18., 19., 20., 21., 22., 23., 24., 25.,\n",
              "       26., 27., 28., 29., 30., 31., 32., 33., 34., 35., 36., 37., 38.,\n",
              "       39., 40., 41., 42., 43., 44., 45., 46., 47., 48., 49., 50.])"
            ]
          },
          "metadata": {},
          "execution_count": 3
        }
      ]
    },
    {
      "cell_type": "code",
      "source": [
        "# Función arrange --> Muy parecida a la anterior pero aquí solo le especificas el intervalo, numeros enteros\n",
        "np.arange(0,51)"
      ],
      "metadata": {
        "colab": {
          "base_uri": "https://localhost:8080/"
        },
        "id": "fp9YttWS4wDE",
        "outputId": "2b816f1e-eb3d-4594-810a-7a6cc5732718"
      },
      "execution_count": null,
      "outputs": [
        {
          "output_type": "execute_result",
          "data": {
            "text/plain": [
              "array([ 0,  1,  2,  3,  4,  5,  6,  7,  8,  9, 10, 11, 12, 13, 14, 15, 16,\n",
              "       17, 18, 19, 20, 21, 22, 23, 24, 25, 26, 27, 28, 29, 30, 31, 32, 33,\n",
              "       34, 35, 36, 37, 38, 39, 40, 41, 42, 43, 44, 45, 46, 47, 48, 49, 50])"
            ]
          },
          "metadata": {},
          "execution_count": 8
        }
      ]
    },
    {
      "cell_type": "code",
      "source": [
        "# Creamos un array bidimensional ---> el número de filas y columnas tiene que ser homogeneo en la matriz\n",
        "arr_bidimensional = np.array([[1,2,3], [4,5,6], [7,8,9]])\n",
        "arr_bidimensional"
      ],
      "metadata": {
        "colab": {
          "base_uri": "https://localhost:8080/"
        },
        "id": "SukCw_PJ3Z_N",
        "outputId": "57b3dfde-ff4b-44ba-9326-48f528c3c915"
      },
      "execution_count": null,
      "outputs": [
        {
          "output_type": "execute_result",
          "data": {
            "text/plain": [
              "array([[1, 2, 3],\n",
              "       [4, 5, 6],\n",
              "       [7, 8, 9]])"
            ]
          },
          "metadata": {},
          "execution_count": 9
        }
      ]
    },
    {
      "cell_type": "code",
      "source": [
        "# matriz de 0's --> le dices que te genere una matriz de 3 filas y 5 columnas\n",
        "zero = np.zeros([3,5])\n",
        "zero"
      ],
      "metadata": {
        "colab": {
          "base_uri": "https://localhost:8080/"
        },
        "id": "rxXaVA_QMzSF",
        "outputId": "28bd0ac4-8164-47c1-d602-0ebfcee22477"
      },
      "execution_count": null,
      "outputs": [
        {
          "output_type": "execute_result",
          "data": {
            "text/plain": [
              "array([[0., 0., 0., 0., 0.],\n",
              "       [0., 0., 0., 0., 0.],\n",
              "       [0., 0., 0., 0., 0.]])"
            ]
          },
          "metadata": {},
          "execution_count": 11
        }
      ]
    },
    {
      "cell_type": "code",
      "source": [
        "# Matriz Identidad ----> Una matriz de identidad es una matriz cuadrada donde todos sus elementos son 0's menos los elementos en la diagonal principal que son 1's\n",
        "identidad = np.identity(5)\n",
        "identidad"
      ],
      "metadata": {
        "colab": {
          "base_uri": "https://localhost:8080/"
        },
        "id": "vkP5CxfoNLRO",
        "outputId": "eae59567-72e7-4546-c393-76c9c2b50be1"
      },
      "execution_count": null,
      "outputs": [
        {
          "output_type": "execute_result",
          "data": {
            "text/plain": [
              "array([[1., 0., 0., 0., 0.],\n",
              "       [0., 1., 0., 0., 0.],\n",
              "       [0., 0., 1., 0., 0.],\n",
              "       [0., 0., 0., 1., 0.],\n",
              "       [0., 0., 0., 0., 1.]])"
            ]
          },
          "metadata": {},
          "execution_count": 12
        }
      ]
    },
    {
      "cell_type": "code",
      "source": [
        "# Matriz de 1's ---> genera una matriz llena de 1's del numero de filas y columnas indicados, en este caso 3 filas y 5 columnas\n",
        "one = np.ones([3,5])\n",
        "one"
      ],
      "metadata": {
        "colab": {
          "base_uri": "https://localhost:8080/"
        },
        "id": "6N5FDsDwPZhy",
        "outputId": "91fbb226-e919-4cfe-fad2-4d921f80e198"
      },
      "execution_count": null,
      "outputs": [
        {
          "output_type": "execute_result",
          "data": {
            "text/plain": [
              "array([[1., 1., 1., 1., 1.],\n",
              "       [1., 1., 1., 1., 1.],\n",
              "       [1., 1., 1., 1., 1.]])"
            ]
          },
          "metadata": {},
          "execution_count": 13
        }
      ]
    },
    {
      "cell_type": "code",
      "source": [
        "# Sumar dos matrices\n",
        "zero + one"
      ],
      "metadata": {
        "colab": {
          "base_uri": "https://localhost:8080/"
        },
        "id": "kZyMMPO0P3ik",
        "outputId": "cbce0ba3-95de-45a1-dfff-a9b6b25f3e0a"
      },
      "execution_count": null,
      "outputs": [
        {
          "output_type": "execute_result",
          "data": {
            "text/plain": [
              "array([[1., 1., 1., 1., 1.],\n",
              "       [1., 1., 1., 1., 1.],\n",
              "       [1., 1., 1., 1., 1.]])"
            ]
          },
          "metadata": {},
          "execution_count": 14
        }
      ]
    },
    {
      "cell_type": "code",
      "source": [
        "# restar dos matrices\n",
        "one - zero"
      ],
      "metadata": {
        "colab": {
          "base_uri": "https://localhost:8080/"
        },
        "id": "6c6hZlRZQD0B",
        "outputId": "b34245af-e2b7-4f54-978f-bb4e75549486"
      },
      "execution_count": null,
      "outputs": [
        {
          "output_type": "execute_result",
          "data": {
            "text/plain": [
              "array([[1., 1., 1., 1., 1.],\n",
              "       [1., 1., 1., 1., 1.],\n",
              "       [1., 1., 1., 1., 1.]])"
            ]
          },
          "metadata": {},
          "execution_count": 15
        }
      ]
    },
    {
      "cell_type": "code",
      "source": [
        "# Producto escalar\n",
        "one * 10"
      ],
      "metadata": {
        "colab": {
          "base_uri": "https://localhost:8080/"
        },
        "id": "1_9XDf1AQDrJ",
        "outputId": "71591d38-3dc5-436a-9a63-f61ced21c40c"
      },
      "execution_count": null,
      "outputs": [
        {
          "output_type": "execute_result",
          "data": {
            "text/plain": [
              "array([[10., 10., 10., 10., 10.],\n",
              "       [10., 10., 10., 10., 10.],\n",
              "       [10., 10., 10., 10., 10.]])"
            ]
          },
          "metadata": {},
          "execution_count": 16
        }
      ]
    },
    {
      "cell_type": "code",
      "source": [
        "# Matriz aleatoria de dimension 1 con valores entre 0 y 1 (Puede servir para simular un peso aleatorio de una cartera)\n",
        "\n",
        "random_matrix = np.random.rand(6)\n",
        "random_matrix"
      ],
      "metadata": {
        "colab": {
          "base_uri": "https://localhost:8080/"
        },
        "id": "Sd-ETzXOTDbI",
        "outputId": "7a7177eb-09e4-42da-dfae-5a270e964444"
      },
      "execution_count": null,
      "outputs": [
        {
          "output_type": "execute_result",
          "data": {
            "text/plain": [
              "array([0.33212069, 0.78564387, 0.1558193 , 0.36075674, 0.20031586,\n",
              "       0.0226825 ])"
            ]
          },
          "metadata": {},
          "execution_count": 6
        }
      ]
    },
    {
      "cell_type": "code",
      "source": [
        "# Redimensionar una matriz de 1 dimension a 2 dimensiones (reshape)\n",
        "print(f\"Shape is {np.shape(random_matrix)}\")\n",
        "\n",
        "# Reshape\n",
        "random_matrix = random_matrix.reshape(-1, 1) # redimensionar el array que tenemos en una sola columna, el -1 indica que nos dan igual las filas\n",
        "\n",
        "# nueva forma\n",
        "print(f\"Shape is {np.shape(random_matrix)}\")\n",
        "\n",
        "random_matrix"
      ],
      "metadata": {
        "colab": {
          "base_uri": "https://localhost:8080/"
        },
        "id": "lmDSboSSTmjm",
        "outputId": "6038729c-8ca7-491c-e960-3ae234004813"
      },
      "execution_count": null,
      "outputs": [
        {
          "output_type": "stream",
          "name": "stdout",
          "text": [
            "Shape is (6,)\n",
            "Shape is (6, 1)\n"
          ]
        },
        {
          "output_type": "execute_result",
          "data": {
            "text/plain": [
              "array([[0.33212069],\n",
              "       [0.78564387],\n",
              "       [0.1558193 ],\n",
              "       [0.36075674],\n",
              "       [0.20031586],\n",
              "       [0.0226825 ]])"
            ]
          },
          "metadata": {},
          "execution_count": 7
        }
      ]
    },
    {
      "cell_type": "code",
      "source": [
        "# valores aleatorios enteros\n",
        "arr_int = np.random.randint(100, size=(5,5)) # generamos un array aleatorio de 5 filas y 5 columnas con números enteros entre 0 y 100\n",
        "arr_int"
      ],
      "metadata": {
        "colab": {
          "base_uri": "https://localhost:8080/"
        },
        "id": "u17uc__DXOj5",
        "outputId": "d362b84b-6665-4bde-dccc-583674d03e87"
      },
      "execution_count": null,
      "outputs": [
        {
          "output_type": "execute_result",
          "data": {
            "text/plain": [
              "array([[12, 85, 58, 58, 22],\n",
              "       [41, 69, 53, 80, 44],\n",
              "       [65, 42, 18,  7, 45],\n",
              "       [53, 12, 81, 43,  0],\n",
              "       [62, 76, 22, 98,  8]])"
            ]
          },
          "metadata": {},
          "execution_count": 8
        }
      ]
    },
    {
      "cell_type": "code",
      "source": [
        "# distribución normal 1 dimension\n"
      ],
      "metadata": {
        "id": "TxOT9_NkXoDu"
      },
      "execution_count": null,
      "outputs": []
    },
    {
      "cell_type": "markdown",
      "source": [
        "# Distribución Normal (Distribución de Gauss)\n",
        "\n",
        "La *distribución normal*, también conocida como la *distribución de Gauss* o la *campana de Gauss*, es una de las distribuciones de probabilidad más importantes en estadísticas y matemáticas. Fue desarrollada por el matemático Carl Friedrich Gauss en el siglo XIX, aunque sus propiedades se conocían mucho antes de su trabajo.\n",
        "\n",
        "La distribución normal es caracterizada por su forma de campana y es ampliamente utilizada en estadísticas debido a varias propiedades importantes:\n",
        "\n",
        "1. **Simetría**: La distribución normal es simétrica alrededor de su media (promedio). Esto significa que la mitad de la distribución está a la izquierda de la media y la otra mitad está a la derecha.\n",
        "\n",
        "2. **Media y mediana iguales**: La media y la mediana de una distribución normal son iguales, lo que indica que la mayoría de los valores se agrupan cerca de la media.\n",
        "\n",
        "3. **Forma de campana**: La distribución normal tiene una forma de campana característica, con la mayoría de los valores cerca de la media y una disminución gradual de la probabilidad a medida que nos alejamos de la media.\n",
        "\n",
        "4. **Parámetros**: La distribución normal está completamente definida por dos parámetros: la media (μ) y la desviación estándar (σ). La media indica el valor central o promedio, mientras que la desviación estándar mide la dispersión o la variabilidad de los datos.\n",
        "\n",
        "5. **Teorema del límite central**: Este teorema establece que cuando se toma una muestra suficientemente grande de una población, la distribución de las medias de esas muestras se acercará a una distribución normal, independientemente de la forma de la distribución original de la población.\n",
        "\n",
        "La ecuación que describe la función de densidad de probabilidad de una distribución normal es la siguiente:\n",
        "\n",
        "\n",
        "\n",
        "```\n",
        "f(x) = (1 / (σ * √(2π))) * e^(-((x - μ)² / (2σ²)))\n",
        "```\n",
        "\n",
        "\n",
        "Donde:\n",
        "- `f(x)` es la densidad de probabilidad en el punto `x`.\n",
        "- `μ` es la media de la distribución.\n",
        "- `σ` es la desviación estándar de la distribución.\n",
        "- `e` es la base del logaritmo natural (aproximadamente 2.71828).\n",
        "\n",
        "La distribución normal es fundamental en estadísticas inferenciales y se utiliza en una variedad de aplicaciones en campos como la física, la economía, la psicología, la biología y muchas otras disciplinas para modelar y analizar datos. La comprensión de la distribución normal es esencial para muchas técnicas estadísticas y análisis de datos.\n",
        "\n",
        "\n",
        "# Distribución Normal para Principiantes\n",
        "\n",
        "La **distribución normal** es como una manera especial de agrupar números que es muy común en matemáticas y estadísticas. Aquí tienes una explicación simple para entenderla:\n",
        "\n",
        "1. **Forma de Campana**: La distribución normal tiene una forma de \"campana\". Esto significa que la mayoría de los números se agrupan alrededor de un valor promedio, como las alturas de las personas en una ciudad.\n",
        "\n",
        "2. **Promedio y Mediana**: El valor promedio en el centro de la campana es como la altura promedio de todas las personas. La mediana, que está justo en medio, es igual al promedio en una distribución normal.\n",
        "\n",
        "3. **Dispersión**: La distribución normal también mira cuán dispersos o cercanos están los números. Si son muy parecidos, la campana es puntiaguda; si están más dispersos, la campana es más ancha.\n",
        "\n",
        "4. **Teorema del Límite Central**: Este es un concepto importante. Dice que si tomas muchas muestras y calculas promedios, esos promedios también seguirán una distribución normal, sin importar cómo se vean los datos originales.\n",
        "\n",
        "En resumen, la distribución normal es una forma especial de describir cómo se agrupan los números alrededor de un valor promedio en una forma de campana, y se utiliza para comprender y analizar datos en muchas áreas, desde la física hasta la economía y la biología. Es una herramienta poderosa en estadísticas que nos ayuda a entender el mundo que nos rodea.\n",
        "\n",
        "\n"
      ],
      "metadata": {
        "id": "CM5lfuiYYLhG"
      }
    }
  ]
}